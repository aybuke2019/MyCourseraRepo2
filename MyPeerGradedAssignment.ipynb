{
 "cells": [
  {
   "cell_type": "markdown",
   "id": "57def152-f178-400f-bcff-9df228953d8f",
   "metadata": {},
   "source": [
    "# My Jupyter Notebook on IBM Watson Studio"
   ]
  },
  {
   "cell_type": "markdown",
   "id": "161583fe-3b49-44cf-a098-ffd86a92081a",
   "metadata": {},
   "source": [
    "**Aybüke Güzel** <br>  Software Developer"
   ]
  },
  {
   "cell_type": "markdown",
   "id": "23b2a701-d7ea-4db0-b130-34c27fe8d1b1",
   "metadata": {},
   "source": [
    "_I have keen interest in data science because I think data science is the most challenging research area of this age._"
   ]
  },
  {
   "cell_type": "markdown",
   "id": "40fd83ae-9bb5-43c5-a13d-c3a969f523da",
   "metadata": {},
   "source": [
    "### Here, my code does the simple multiplication of 3 to 5 in the below:"
   ]
  },
  {
   "cell_type": "code",
   "execution_count": 2,
   "id": "e29a6912-af6a-4cd0-aa3f-82b502f8a38b",
   "metadata": {},
   "outputs": [
    {
     "data": {
      "text/plain": [
       "15"
      ]
     },
     "execution_count": 2,
     "metadata": {},
     "output_type": "execute_result"
    }
   ],
   "source": [
    "3 * 5 "
   ]
  },
  {
   "cell_type": "markdown",
   "id": "104a683c-5ef3-4f32-99f0-538e1d9d1518",
   "metadata": {},
   "source": [
    "~~\n",
    "1. [this is a link to Coursera](https://www.coursera.org/)\n",
    "2. [this is a link to IBM Watson Studio (https://www.ibm.com/cloud/watson-studio)\n",
    "3. "
   ]
  },
  {
   "cell_type": "code",
   "execution_count": null,
   "id": "676c18fc-b0a1-4f5f-91bb-c277d51d3db7",
   "metadata": {},
   "outputs": [],
   "source": []
  }
 ],
 "metadata": {
  "kernelspec": {
   "display_name": "Python",
   "language": "python",
   "name": "conda-env-python-py"
  },
  "language_info": {
   "codemirror_mode": {
    "name": "ipython",
    "version": 3
   },
   "file_extension": ".py",
   "mimetype": "text/x-python",
   "name": "python",
   "nbconvert_exporter": "python",
   "pygments_lexer": "ipython3",
   "version": "3.7.12"
  }
 },
 "nbformat": 4,
 "nbformat_minor": 5
}
