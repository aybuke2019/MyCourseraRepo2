{
 "cells": [
  {
   "cell_type": "markdown",
   "id": "8388b9aa-691b-4ad7-818e-a13f93cfcba7",
   "metadata": {
    "tags": []
   },
   "source": [
    "# Data Science Tools and Ecosystem"
   ]
  },
  {
   "cell_type": "markdown",
   "id": "e93e99a0-3b90-427e-a1a0-26eded187df7",
   "metadata": {},
   "source": [
    "In this notebook, Data Science Tools and Ecosystem are summarized."
   ]
  },
  {
   "cell_type": "markdown",
   "id": "fdc5ba9a-16e1-42cc-9607-1f5bc0f1dedd",
   "metadata": {},
   "source": [
    "Some of the popular languages that Data Scientists use are:\n",
    "1. Python\n",
    "2. R\n",
    "3. SQL"
   ]
  },
  {
   "cell_type": "markdown",
   "id": "16358c53-84eb-4dce-83bb-5f34df37da79",
   "metadata": {},
   "source": [
    "Some of the commonly used libraries used by Data Scientists include:\n",
    "1. Pandas\n",
    "2. Tensorflow\n",
    "3. PyTorch"
   ]
  },
  {
   "cell_type": "markdown",
   "id": "8c3bdfc7-ee66-453f-bac0-72b4426b91d7",
   "metadata": {},
   "source": [
    "| Data Science Tools | \n",
    "|------|\n",
    "|   RStudio  | \n",
    "|   Apache Spark  |\n",
    "|   TensorFlow  |"
   ]
  },
  {
   "cell_type": "markdown",
   "id": "a782f4a4-ae2f-4488-80ec-4a1d4ca8a301",
   "metadata": {},
   "source": [
    "### Below are a few examples of evaluating arithmetic expressions in Python"
   ]
  },
  {
   "cell_type": "code",
   "execution_count": 5,
   "id": "05d3fe5a-9714-4a59-bec4-f9721079ef9c",
   "metadata": {},
   "outputs": [
    {
     "data": {
      "text/plain": [
       "17"
      ]
     },
     "execution_count": 5,
     "metadata": {},
     "output_type": "execute_result"
    }
   ],
   "source": [
    "#This a simple arithmetic expression to mutiply then add integers\n",
    "(3*4)+5"
   ]
  },
  {
   "cell_type": "code",
   "execution_count": 7,
   "id": "03e12a97-9999-46bf-b6b4-1b61858285fc",
   "metadata": {},
   "outputs": [
    {
     "data": {
      "text/plain": [
       "3.3333333333333335"
      ]
     },
     "execution_count": 7,
     "metadata": {},
     "output_type": "execute_result"
    }
   ],
   "source": [
    "#This will convert 200 minutes to hours by diving by 60\n",
    "200/60"
   ]
  },
  {
   "cell_type": "markdown",
   "id": "a3867808-2b1a-4627-96bf-84122a30e0b5",
   "metadata": {},
   "source": [
    "**Objectives:**\n",
    "- making headers on Jupyter Notebook\n",
    "- making bullet lists on Jupyter Notebook\n",
    "- making tables on Jupyter Notebook\n",
    "- making comments on Jupyter Notebook\n",
    "- making numbered lists on Jupyter Notebook\n"
   ]
  },
  {
   "cell_type": "markdown",
   "id": "f01afb9c-8b68-464a-9f4a-0b180691ab25",
   "metadata": {},
   "source": [
    "## Author <br>\n",
    "Aybüke Güzel"
   ]
  },
  {
   "cell_type": "code",
   "execution_count": null,
   "id": "4baf062e-3047-4f42-9dac-d9614a95b0f3",
   "metadata": {},
   "outputs": [],
   "source": []
  }
 ],
 "metadata": {
  "kernelspec": {
   "display_name": "Python",
   "language": "python",
   "name": "conda-env-python-py"
  },
  "language_info": {
   "codemirror_mode": {
    "name": "ipython",
    "version": 3
   },
   "file_extension": ".py",
   "mimetype": "text/x-python",
   "name": "python",
   "nbconvert_exporter": "python",
   "pygments_lexer": "ipython3",
   "version": "3.7.12"
  }
 },
 "nbformat": 4,
 "nbformat_minor": 5
}
